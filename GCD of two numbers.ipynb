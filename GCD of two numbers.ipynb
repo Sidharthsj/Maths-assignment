{
 "cells": [
  {
   "cell_type": "code",
   "execution_count": 2,
   "id": "8e933302",
   "metadata": {},
   "outputs": [
    {
     "name": "stdout",
     "output_type": "stream",
     "text": [
      "Enter first number: 45\n",
      "Enter second number: 64\n",
      "\n",
      "45 = 64 * 0 + 45\n",
      "64 = 45 * 1 + 19\n",
      "45 = 19 * 2 + 7\n",
      "19 = 7 * 2 + 5\n",
      "7 = 5 * 1 + 2\n",
      "5 = 2 * 2 + 1\n",
      "2 = 1 * 2 + 0\n",
      "GCD= 1\n"
     ]
    }
   ],
   "source": [
    "num1=int(input(\"Enter first number: \"))\n",
    "num2=int(input(\"Enter second number: \"))\n",
    "print()\n",
    "flag=False\n",
    "if num1>num2:\n",
    "    temp=num1\n",
    "    num1=num2\n",
    "    num2=temp\n",
    "while(flag is False):\n",
    "    rem=num1%num2\n",
    "    quotient=num1//num2\n",
    "    print(num1,\"=\",num2,\"*\",quotient,\"+\",rem)\n",
    "    if rem==0:\n",
    "        flag=True\n",
    "    else:\n",
    "        num1=num2\n",
    "        num2=rem\n",
    "print(\"GCD=\",num2)\n"
   ]
  },
  {
   "cell_type": "code",
   "execution_count": null,
   "id": "905615f7",
   "metadata": {},
   "outputs": [],
   "source": []
  }
 ],
 "metadata": {
  "kernelspec": {
   "display_name": "Python 3 (ipykernel)",
   "language": "python",
   "name": "python3"
  },
  "language_info": {
   "codemirror_mode": {
    "name": "ipython",
    "version": 3
   },
   "file_extension": ".py",
   "mimetype": "text/x-python",
   "name": "python",
   "nbconvert_exporter": "python",
   "pygments_lexer": "ipython3",
   "version": "3.9.7"
  }
 },
 "nbformat": 4,
 "nbformat_minor": 5
}
